{
 "cells": [
  {
   "cell_type": "markdown",
   "metadata": {},
   "source": [
    "### Importing Libraries"
   ]
  },
  {
   "cell_type": "code",
   "execution_count": 1,
   "metadata": {},
   "outputs": [],
   "source": [
    "import numpy as np\n",
    "from scipy.integrate import odeint\n",
    "import matplotlib.pyplot as plt\n",
    "%matplotlib inline"
   ]
  },
  {
   "cell_type": "markdown",
   "metadata": {},
   "source": [
    "$$\\dfrac{dS}{dt}=P-BSZ-nS$$\n",
    "\n",
    "$$\\dfrac{dZ}{dt}=BSZ+GR-ASZ$$\n",
    "\n",
    "$$\\dfrac{dR}{dt}=nS+ASZ-GR$$\n",
    "\n",
    "$S$: the number of susceptible victims (Initial 500)\n",
    "\n",
    "$Z$: the number of zombies (Initial 0)\n",
    "\n",
    "$R$: the number of people \"killed\" (Initial 0)\n",
    "\n",
    "$P$: the population birth rate (Here 0)\n",
    "\n",
    "$n$: the chance of a natural death (Here 0.0001)\n",
    "\n",
    "$B$: the chance the \"zombie disease\" is transmitted (an alive person becomes a zombie) (Here 0.0095)\n",
    "\n",
    "$G$: the chance a dead person is resurrected into a zombie (Here 0.0001)\n",
    "\n",
    "$A$: the chance a zombie is totally destroyed (Here 0.0001)\n"
   ]
  },
  {
   "cell_type": "markdown",
   "metadata": {},
   "source": [
    "Let $X = [S, Z, R]$"
   ]
  },
  {
   "cell_type": "code",
   "execution_count": 2,
   "metadata": {},
   "outputs": [],
   "source": [
    "def model(X,t,P,n,B,G,A):\n",
    "    '''\n",
    "    function that returns dX/dt\n",
    "    '''\n",
    "    S = X[0]\n",
    "    Z = X[1]\n",
    "    R = X[2]\n",
    "    dSdt = P - B*S*Z - n*S\n",
    "    dZdt = B*S*Z + G*R - A*S*Z\n",
    "    dRdt = n*S + A*S*Z - G*R\n",
    "    dXdt = [dSdt, dZdt, dRdt]\n",
    "    return dXdt"
   ]
  },
  {
   "cell_type": "code",
   "execution_count": 3,
   "metadata": {},
   "outputs": [],
   "source": [
    "# Initial Conditions and constants\n",
    "X_0 = [500,0,0] \n",
    "P = 0\n",
    "n = 0.0001\n",
    "B = 0.0095\n",
    "G = 0.0001\n",
    "A = 0.0001"
   ]
  },
  {
   "cell_type": "code",
   "execution_count": 4,
   "metadata": {},
   "outputs": [],
   "source": [
    "t = np.linspace(0,5,1000) # Time Points"
   ]
  },
  {
   "cell_type": "code",
   "execution_count": 5,
   "metadata": {},
   "outputs": [],
   "source": [
    "X = odeint(model, X_0, t, args=(P,n,B,G,A)) # Solving the System"
   ]
  },
  {
   "cell_type": "code",
   "execution_count": 6,
   "metadata": {},
   "outputs": [
    {
     "data": {
      "image/png": "[encoded data removed]",
      "text/plain": [
       "<Figure size 432x288 with 1 Axes>"
      ]
     },
     "metadata": {
      "needs_background": "light"
     },
     "output_type": "display_data"
    }
   ],
   "source": [
    "plt.plot(t,X[:,0],'b-',label=r'Susceptibles')\n",
    "plt.plot(t,X[:,1],'r--',label=r'Zombies')\n",
    "plt.plot(t,X[:,2],'g:',label=r'Deaths')\n",
    "plt.ylabel('Number of people')\n",
    "plt.xlabel('Time')\n",
    "plt.legend(loc='best')\n",
    "plt.show()"
   ]
  }
 ],
 "metadata": {
  "kernelspec": {
   "display_name": "Python 3",
   "language": "python",
   "name": "python3"
  },
  "language_info": {
   "codemirror_mode": {
    "name": "ipython",
    "version": 3
   },
   "file_extension": ".py",
   "mimetype": "text/x-python",
   "name": "python",
   "nbconvert_exporter": "python",
   "pygments_lexer": "ipython3",
   "version": "3.7.6"
  }
 },
 "nbformat": 4,
 "nbformat_minor": 4
}
