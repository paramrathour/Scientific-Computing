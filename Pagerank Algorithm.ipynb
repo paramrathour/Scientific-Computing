{
 "cells": [
  {
   "cell_type": "code",
   "execution_count": 1,
   "metadata": {},
   "outputs": [],
   "source": [
    "import numpy as np\n",
    "from fractions import Fraction"
   ]
  },
  {
   "cell_type": "markdown",
   "metadata": {},
   "source": [
    "#### Number of Webpages"
   ]
  },
  {
   "cell_type": "code",
   "execution_count": 2,
   "metadata": {},
   "outputs": [],
   "source": [
    "n = 4"
   ]
  },
  {
   "cell_type": "code",
   "execution_count": 3,
   "metadata": {},
   "outputs": [
    {
     "name": "stdout",
     "output_type": "stream",
     "text": [
      "[[0 Fraction(1, 2) 0 0]\n",
      " [Fraction(1, 3) 0 0 Fraction(1, 2)]\n",
      " [Fraction(1, 3) 0 0 Fraction(1, 2)]\n",
      " [Fraction(1, 3) Fraction(1, 2) 1 0]]\n"
     ]
    }
   ],
   "source": [
    "transferMatrix = np.matrix([[0,Fraction(1,2),0,0],[Fraction(1,3),0,0,Fraction(1,2)],[Fraction(1,3),0,0,Fraction(1,2)],[Fraction(1,3),Fraction(1,2),1,0]])\n",
    "print(transferMatrix)"
   ]
  },
  {
   "cell_type": "code",
   "execution_count": 4,
   "metadata": {},
   "outputs": [
    {
     "name": "stdout",
     "output_type": "stream",
     "text": [
      "[[0.25 0.25 0.25 0.25]\n",
      " [0.25 0.25 0.25 0.25]\n",
      " [0.25 0.25 0.25 0.25]\n",
      " [0.25 0.25 0.25 0.25]]\n"
     ]
    }
   ],
   "source": [
    "constantMatrix= np.zeros((n,n))\n",
    "constantMatrix[:] = Fraction(1,n)\n",
    "print(constantMatrix)"
   ]
  },
  {
   "cell_type": "code",
   "execution_count": 5,
   "metadata": {},
   "outputs": [],
   "source": [
    "dampingFactor = 0.85"
   ]
  },
  {
   "cell_type": "code",
   "execution_count": 6,
   "metadata": {},
   "outputs": [
    {
     "name": "stdout",
     "output_type": "stream",
     "text": [
      "[[0.037500000000000006 0.4625 0.037500000000000006 0.037500000000000006]\n",
      " [0.3208333333333333 0.037500000000000006 0.037500000000000006 0.4625]\n",
      " [0.3208333333333333 0.037500000000000006 0.037500000000000006 0.4625]\n",
      " [0.3208333333333333 0.4625 0.8875 0.037500000000000006]]\n"
     ]
    }
   ],
   "source": [
    "pageRankMatrix = dampingFactor * transferMatrix + ((1-dampingFactor) * constantMatrix)\n",
    "print(pageRankMatrix)"
   ]
  },
  {
   "cell_type": "markdown",
   "metadata": {},
   "source": [
    "## Power Iteration Method"
   ]
  },
  {
   "cell_type": "code",
   "execution_count": 7,
   "metadata": {},
   "outputs": [
    {
     "name": "stdout",
     "output_type": "stream",
     "text": [
      "[[0.25]\n",
      " [0.25]\n",
      " [0.25]\n",
      " [0.25]]\n"
     ]
    }
   ],
   "source": [
    "probability= np.zeros((n,1))\n",
    "probability[:] = Fraction(1,n)\n",
    "print(probability)"
   ]
  },
  {
   "cell_type": "code",
   "execution_count": 8,
   "metadata": {},
   "outputs": [],
   "source": [
    "probabilityOld = probability"
   ]
  },
  {
   "cell_type": "code",
   "execution_count": 9,
   "metadata": {},
   "outputs": [
    {
     "name": "stdout",
     "output_type": "stream",
     "text": [
      "[[0.1392191078634532]\n",
      " [0.23933907732577211]\n",
      " [0.23933907732577211]\n",
      " [0.3821027374850045]]\n"
     ]
    }
   ],
   "source": [
    "for i in range(100000):\n",
    "    probability = pageRankMatrix * probability\n",
    "    if (probabilityOld == probability).all():\n",
    "        break\n",
    "    probabilityOld = probability\n",
    "print (probability)"
   ]
  },
  {
   "cell_type": "markdown",
   "metadata": {},
   "source": [
    "### Probabilities of webpages are above"
   ]
  },
  {
   "cell_type": "markdown",
   "metadata": {},
   "source": [
    "So Rank of webpages\n",
    "1. 4\n",
    "2. 2,3\n",
    "3. 1"
   ]
  },
  {
   "cell_type": "markdown",
   "metadata": {},
   "source": [
    "## Eigenvalue Method"
   ]
  },
  {
   "cell_type": "code",
   "execution_count": 10,
   "metadata": {},
   "outputs": [
    {
     "name": "stdout",
     "output_type": "stream",
     "text": [
      "[ 1.00000000e+00 -7.72011047e-01 -7.79889531e-02  5.77912571e-16]\n",
      "[[ 2.63122478e-01  2.62323812e-01 -8.25340062e-01 -8.01783726e-01]\n",
      " [ 4.52348045e-01 -4.76510307e-01  1.51452723e-01 -1.30083707e-15]\n",
      " [ 4.52348045e-01 -4.76510307e-01  1.51452723e-01  2.67261242e-01]\n",
      " [ 7.22169685e-01  6.90696802e-01  5.22434615e-01  5.34522484e-01]]\n"
     ]
    }
   ],
   "source": [
    "eigenvalue, eigenvector = np.linalg.eig(np.array(pageRankMatrix, dtype=float))\n",
    "print(eigenvalue)\n",
    "print(eigenvector)"
   ]
  },
  {
   "cell_type": "code",
   "execution_count": 11,
   "metadata": {},
   "outputs": [
    {
     "name": "stdout",
     "output_type": "stream",
     "text": [
      "[[0.13921911]\n",
      " [0.23933908]\n",
      " [0.23933908]\n",
      " [0.38210274]]\n"
     ]
    }
   ],
   "source": [
    "requiredEigenvector = eigenvector[:,0].reshape(n,1)  # Eigenvalue = 1 for first column\n",
    "requiredEigenvector = requiredEigenvector/np.sum(requiredEigenvector, axis = 0) # Convert to Probabilities\n",
    "print(requiredEigenvector) # Probabilities of webpages"
   ]
  },
  {
   "cell_type": "markdown",
   "metadata": {},
   "source": [
    "So Rank of webpages\n",
    "1. 4\n",
    "2. 2,3\n",
    "3. 1"
   ]
  }
 ],
 "metadata": {
  "kernelspec": {
   "display_name": "Python 3",
   "language": "python",
   "name": "python3"
  },
  "language_info": {
   "codemirror_mode": {
    "name": "ipython",
    "version": 3
   },
   "file_extension": ".py",
   "mimetype": "text/x-python",
   "name": "python",
   "nbconvert_exporter": "python",
   "pygments_lexer": "ipython3",
   "version": "3.7.6"
  }
 },
 "nbformat": 4,
 "nbformat_minor": 4
}
