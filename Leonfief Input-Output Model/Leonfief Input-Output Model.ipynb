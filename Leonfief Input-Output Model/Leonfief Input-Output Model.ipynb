{
 "cells": [
  {
   "cell_type": "code",
   "execution_count": 1,
   "metadata": {},
   "outputs": [],
   "source": [
    "import numpy as np\n",
    "import pandas as pd\n",
    "import fileinput"
   ]
  },
  {
   "cell_type": "markdown",
   "metadata": {},
   "source": [
    "# Open Systems"
   ]
  },
  {
   "cell_type": "markdown",
   "metadata": {},
   "source": [
    "Number of Sectors (n)"
   ]
  },
  {
   "cell_type": "code",
   "execution_count": 2,
   "metadata": {},
   "outputs": [],
   "source": [
    "n=4"
   ]
  },
  {
   "cell_type": "code",
   "execution_count": 3,
   "metadata": {},
   "outputs": [
    {
     "data": {
      "text/plain": [
       "'sector1, sector2, sector3, sector4\\n'"
      ]
     },
     "execution_count": 3,
     "metadata": {},
     "output_type": "execute_result"
    }
   ],
   "source": [
    "model = fileinput.input('leontief_data.txt')\n",
    "next(model)"
   ]
  },
  {
   "cell_type": "code",
   "execution_count": 4,
   "metadata": {},
   "outputs": [
    {
     "name": "stdout",
     "output_type": "stream",
     "text": [
      "[[0.1  0.05 0.3  0.2 ]\n",
      " [0.15 0.25 0.05 0.1 ]\n",
      " [0.3  0.1  0.1  0.25]\n",
      " [0.15 0.2  0.1  0.2 ]]\n"
     ]
    }
   ],
   "source": [
    "consumptionMatrix = np.loadtxt(model, dtype='f', delimiter=',')\n",
    "print(consumptionMatrix)"
   ]
  },
  {
   "cell_type": "code",
   "execution_count": 5,
   "metadata": {},
   "outputs": [
    {
     "name": "stdout",
     "output_type": "stream",
     "text": [
      "[[1. 0. 0. 0.]\n",
      " [0. 1. 0. 0.]\n",
      " [0. 0. 1. 0.]\n",
      " [0. 0. 0. 1.]]\n"
     ]
    }
   ],
   "source": [
    "identityMatrix = np.identity(n)\n",
    "print(identityMatrix)"
   ]
  },
  {
   "cell_type": "code",
   "execution_count": 6,
   "metadata": {},
   "outputs": [
    {
     "name": "stdout",
     "output_type": "stream",
     "text": [
      "[[25000]\n",
      " [10000]\n",
      " [30000]\n",
      " [50000]]\n"
     ]
    }
   ],
   "source": [
    "demandVector = np.array([25000, 10000, 30000, 50000])\n",
    "demandVector = demandVector.reshape(n,1)\n",
    "print(demandVector)"
   ]
  },
  {
   "cell_type": "code",
   "execution_count": 7,
   "metadata": {},
   "outputs": [
    {
     "name": "stdout",
     "output_type": "stream",
     "text": [
      "[[ 85580.99081969]\n",
      " [ 50622.97846945]\n",
      " [ 96157.86103972]\n",
      " [103221.91441587]]\n"
     ]
    }
   ],
   "source": [
    "totalProduction = np.linalg.solve(identityMatrix-consumptionMatrix,demandVector)\n",
    "print(totalProduction)"
   ]
  },
  {
   "cell_type": "markdown",
   "metadata": {},
   "source": [
    "# Closed Systems"
   ]
  },
  {
   "cell_type": "markdown",
   "metadata": {},
   "source": [
    "Number of Sectors (n)"
   ]
  },
  {
   "cell_type": "code",
   "execution_count": 8,
   "metadata": {},
   "outputs": [],
   "source": [
    "n=3"
   ]
  },
  {
   "cell_type": "code",
   "execution_count": 9,
   "metadata": {},
   "outputs": [
    {
     "name": "stdout",
     "output_type": "stream",
     "text": [
      "[[0.1 0.4 0. ]\n",
      " [0.2 0.4 0.9]\n",
      " [0.7 0.2 0.1]]\n"
     ]
    }
   ],
   "source": [
    "consumptionMatrix = np.loadtxt(\"model.csv\", dtype='f', delimiter=',')\n",
    "print(consumptionMatrix)"
   ]
  },
  {
   "cell_type": "code",
   "execution_count": 10,
   "metadata": {},
   "outputs": [
    {
     "name": "stdout",
     "output_type": "stream",
     "text": [
      "[ 1.        +0.j        -0.19999999+0.4358899j -0.19999999-0.4358899j]\n",
      "[[-0.36048698+0.j         -0.28347337-0.41187724j -0.28347337+0.41187724j]\n",
      " [-0.8110957 +0.j          0.6614378 +0.j          0.6614378 -0.j        ]\n",
      " [-0.46062225+0.j         -0.37796447+0.41187724j -0.37796447-0.41187724j]]\n"
     ]
    }
   ],
   "source": [
    "eigenvalue, eigenvector = np.linalg.eig(consumptionMatrix)\n",
    "print(eigenvalue)\n",
    "print(eigenvector)"
   ]
  },
  {
   "cell_type": "code",
   "execution_count": 11,
   "metadata": {},
   "outputs": [
    {
     "name": "stdout",
     "output_type": "stream",
     "text": [
      "[[-0.36048698+0.j]\n",
      " [-0.8110957 +0.j]\n",
      " [-0.46062225+0.j]]\n"
     ]
    }
   ],
   "source": [
    "counter = 0\n",
    "for x in eigenvalue:\n",
    "    if x == 1:\n",
    "        break\n",
    "    counter = counter + 1\n",
    "solution = eigenvector[:,counter].reshape(n,1)\n",
    "print(solution)"
   ]
  },
  {
   "cell_type": "markdown",
   "metadata": {},
   "source": [
    "### The above solution will remain solution after scaling"
   ]
  }
 ],
 "metadata": {
  "kernelspec": {
   "display_name": "Python 3",
   "language": "python",
   "name": "python3"
  },
  "language_info": {
   "codemirror_mode": {
    "name": "ipython",
    "version": 3
   },
   "file_extension": ".py",
   "mimetype": "text/x-python",
   "name": "python",
   "nbconvert_exporter": "python",
   "pygments_lexer": "ipython3",
   "version": "3.7.6"
  }
 },
 "nbformat": 4,
 "nbformat_minor": 4
}
